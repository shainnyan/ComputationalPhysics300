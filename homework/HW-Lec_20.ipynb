{
 "cells": [
  {
   "cell_type": "code",
   "execution_count": 83,
   "id": "c117af07",
   "metadata": {},
   "outputs": [],
   "source": [
    "import numpy as np\n",
    "from scipy.optimize import minimize\n",
    "from scipy.optimize import differential_evolution\n",
    "from scipy.optimize import Bounds\n",
    "\n",
    "#leonard james potential\n",
    "def LJ(r):\n",
    "    r6 = r**6\n",
    "    r12 = r6*r6\n",
    "    return 4*(1/r12 - 1/r6)\n",
    "\n",
    "#calculate total energy\n",
    "def totalenergy(pos):\n",
    "    '''\n",
    "    pos: a 1D array (3*N) representing positions of the atoms\n",
    "    example array with 3 atoms:\n",
    "    [x1, y1, z1\n",
    "    x2, y2, z2\n",
    "    x3, y3, z3]\n",
    "    '''\n",
    "    E = 0\n",
    "    atom_amt = int(len(pos)/3)  #number of atoms\n",
    "\n",
    "    for i in range(atom_amt-1):\n",
    "        for j in range(i+1, atom_amt):\n",
    "            atom1 = pos[i*3:(i+1)*3]\n",
    "            atom2 = pos[j*3:(j+1)*3]\n",
    "            dist = np.linalg.norm(atom1-atom2)\n",
    "            E += LJ(dist)\n",
    "    return E \n",
    "\n",
    "#initial positions of atoms\n",
    "def init_pos(N, L=5):\n",
    "    '''\n",
    "    N = # of atoms\n",
    "    L = a sort of scaling factor for atoms to generate in a bigger area'''\n",
    "    return L*np.random.random_sample((N*3,)) \n",
    "\n",
    "def init_population(N_atom, population_size=10):\n",
    "    cluster = []\n",
    "    for i in range(population_size):\n",
    "        cluster.append(init_pos(N_atom))\n",
    "    return np.array(cluster)"
   ]
  },
  {
   "cell_type": "code",
   "execution_count": 121,
   "id": "3a559be4",
   "metadata": {},
   "outputs": [
    {
     "ename": "ValueError",
     "evalue": "operands could not be broadcast together with shapes (10,36) (36,10) ",
     "output_type": "error",
     "traceback": [
      "\u001b[1;31m---------------------------------------------------------------------------\u001b[0m",
      "\u001b[1;31mValueError\u001b[0m                                Traceback (most recent call last)",
      "\u001b[1;32m~\\AppData\\Local\\Temp\\1/ipykernel_8244/3727603771.py\u001b[0m in \u001b[0;36m<module>\u001b[1;34m\u001b[0m\n\u001b[0;32m     17\u001b[0m \u001b[1;31m#print(popl)\u001b[0m\u001b[1;33m\u001b[0m\u001b[1;33m\u001b[0m\u001b[1;33m\u001b[0m\u001b[0m\n\u001b[0;32m     18\u001b[0m \u001b[1;31m#print(bound)\u001b[0m\u001b[1;33m\u001b[0m\u001b[1;33m\u001b[0m\u001b[1;33m\u001b[0m\u001b[0m\n\u001b[1;32m---> 19\u001b[1;33m \u001b[0mres\u001b[0m \u001b[1;33m=\u001b[0m \u001b[0mdifferential_evolution\u001b[0m\u001b[1;33m(\u001b[0m\u001b[0mtotalenergy\u001b[0m\u001b[1;33m,\u001b[0m \u001b[0mbounds\u001b[0m\u001b[1;33m=\u001b[0m\u001b[0mbound\u001b[0m\u001b[1;33m,\u001b[0m \u001b[0mmaxiter\u001b[0m\u001b[1;33m=\u001b[0m\u001b[1;36m50\u001b[0m\u001b[1;33m,\u001b[0m \u001b[0mdisp\u001b[0m\u001b[1;33m=\u001b[0m\u001b[1;32mTrue\u001b[0m\u001b[1;33m,\u001b[0m \u001b[0mx0\u001b[0m\u001b[1;33m=\u001b[0m\u001b[0mpopl\u001b[0m\u001b[1;33m)\u001b[0m\u001b[1;33m\u001b[0m\u001b[1;33m\u001b[0m\u001b[0m\n\u001b[0m",
      "\u001b[1;32m~\\Miniconda3\\lib\\site-packages\\scipy\\optimize\\_differentialevolution.py\u001b[0m in \u001b[0;36mdifferential_evolution\u001b[1;34m(func, bounds, args, strategy, maxiter, popsize, tol, mutation, recombination, seed, callback, disp, polish, init, atol, updating, workers, constraints, x0)\u001b[0m\n\u001b[0;32m    314\u001b[0m     \u001b[1;31m# using a context manager means that any created Pool objects are\u001b[0m\u001b[1;33m\u001b[0m\u001b[1;33m\u001b[0m\u001b[1;33m\u001b[0m\u001b[0m\n\u001b[0;32m    315\u001b[0m     \u001b[1;31m# cleared up.\u001b[0m\u001b[1;33m\u001b[0m\u001b[1;33m\u001b[0m\u001b[1;33m\u001b[0m\u001b[0m\n\u001b[1;32m--> 316\u001b[1;33m     with DifferentialEvolutionSolver(func, bounds, args=args,\n\u001b[0m\u001b[0;32m    317\u001b[0m                                      \u001b[0mstrategy\u001b[0m\u001b[1;33m=\u001b[0m\u001b[0mstrategy\u001b[0m\u001b[1;33m,\u001b[0m\u001b[1;33m\u001b[0m\u001b[1;33m\u001b[0m\u001b[0m\n\u001b[0;32m    318\u001b[0m                                      \u001b[0mmaxiter\u001b[0m\u001b[1;33m=\u001b[0m\u001b[0mmaxiter\u001b[0m\u001b[1;33m,\u001b[0m\u001b[1;33m\u001b[0m\u001b[1;33m\u001b[0m\u001b[0m\n",
      "\u001b[1;32m~\\Miniconda3\\lib\\site-packages\\scipy\\optimize\\_differentialevolution.py\u001b[0m in \u001b[0;36m__init__\u001b[1;34m(self, func, bounds, args, strategy, maxiter, popsize, tol, mutation, recombination, seed, maxfun, callback, disp, polish, init, atol, updating, workers, constraints, x0)\u001b[0m\n\u001b[0;32m    631\u001b[0m             \u001b[1;31m# scale to within unit interval and\u001b[0m\u001b[1;33m\u001b[0m\u001b[1;33m\u001b[0m\u001b[1;33m\u001b[0m\u001b[0m\n\u001b[0;32m    632\u001b[0m             \u001b[1;31m# ensure parameters are within bounds.\u001b[0m\u001b[1;33m\u001b[0m\u001b[1;33m\u001b[0m\u001b[1;33m\u001b[0m\u001b[0m\n\u001b[1;32m--> 633\u001b[1;33m             \u001b[0mx0_scaled\u001b[0m \u001b[1;33m=\u001b[0m \u001b[0mself\u001b[0m\u001b[1;33m.\u001b[0m\u001b[0m_unscale_parameters\u001b[0m\u001b[1;33m(\u001b[0m\u001b[0mnp\u001b[0m\u001b[1;33m.\u001b[0m\u001b[0masarray\u001b[0m\u001b[1;33m(\u001b[0m\u001b[0mx0\u001b[0m\u001b[1;33m)\u001b[0m\u001b[1;33m)\u001b[0m\u001b[1;33m\u001b[0m\u001b[1;33m\u001b[0m\u001b[0m\n\u001b[0m\u001b[0;32m    634\u001b[0m             \u001b[1;32mif\u001b[0m \u001b[1;33m(\u001b[0m\u001b[1;33m(\u001b[0m\u001b[0mx0_scaled\u001b[0m \u001b[1;33m>\u001b[0m \u001b[1;36m1.0\u001b[0m\u001b[1;33m)\u001b[0m \u001b[1;33m|\u001b[0m \u001b[1;33m(\u001b[0m\u001b[0mx0_scaled\u001b[0m \u001b[1;33m<\u001b[0m \u001b[1;36m0.0\u001b[0m\u001b[1;33m)\u001b[0m\u001b[1;33m)\u001b[0m\u001b[1;33m.\u001b[0m\u001b[0many\u001b[0m\u001b[1;33m(\u001b[0m\u001b[1;33m)\u001b[0m\u001b[1;33m:\u001b[0m\u001b[1;33m\u001b[0m\u001b[1;33m\u001b[0m\u001b[0m\n\u001b[0;32m    635\u001b[0m                 raise ValueError(\n",
      "\u001b[1;32m~\\Miniconda3\\lib\\site-packages\\scipy\\optimize\\_differentialevolution.py\u001b[0m in \u001b[0;36m_unscale_parameters\u001b[1;34m(self, parameters)\u001b[0m\n\u001b[0;32m   1233\u001b[0m     \u001b[1;32mdef\u001b[0m \u001b[0m_unscale_parameters\u001b[0m\u001b[1;33m(\u001b[0m\u001b[0mself\u001b[0m\u001b[1;33m,\u001b[0m \u001b[0mparameters\u001b[0m\u001b[1;33m)\u001b[0m\u001b[1;33m:\u001b[0m\u001b[1;33m\u001b[0m\u001b[1;33m\u001b[0m\u001b[0m\n\u001b[0;32m   1234\u001b[0m         \u001b[1;34m\"\"\"Scale from parameters to a number between 0 and 1.\"\"\"\u001b[0m\u001b[1;33m\u001b[0m\u001b[1;33m\u001b[0m\u001b[0m\n\u001b[1;32m-> 1235\u001b[1;33m         \u001b[1;32mreturn\u001b[0m \u001b[1;33m(\u001b[0m\u001b[0mparameters\u001b[0m \u001b[1;33m-\u001b[0m \u001b[0mself\u001b[0m\u001b[1;33m.\u001b[0m\u001b[0m__scale_arg1\u001b[0m\u001b[1;33m)\u001b[0m \u001b[1;33m/\u001b[0m \u001b[0mself\u001b[0m\u001b[1;33m.\u001b[0m\u001b[0m__scale_arg2\u001b[0m \u001b[1;33m+\u001b[0m \u001b[1;36m0.5\u001b[0m\u001b[1;33m\u001b[0m\u001b[1;33m\u001b[0m\u001b[0m\n\u001b[0m\u001b[0;32m   1236\u001b[0m \u001b[1;33m\u001b[0m\u001b[0m\n\u001b[0;32m   1237\u001b[0m     \u001b[1;32mdef\u001b[0m \u001b[0m_ensure_constraint\u001b[0m\u001b[1;33m(\u001b[0m\u001b[0mself\u001b[0m\u001b[1;33m,\u001b[0m \u001b[0mtrial\u001b[0m\u001b[1;33m)\u001b[0m\u001b[1;33m:\u001b[0m\u001b[1;33m\u001b[0m\u001b[1;33m\u001b[0m\u001b[0m\n",
      "\u001b[1;31mValueError\u001b[0m: operands could not be broadcast together with shapes (10,36) (36,10) "
     ]
    }
   ],
   "source": [
    "N_atom = 12\n",
    "#ideal energy for 12 atoms: -37.967600\n",
    "\n",
    "pos = init_pos(N_atom)\n",
    "popl = init_population(N_atom)\n",
    "\n",
    "bound = []\n",
    "for i in range((len(popl))):\n",
    "    seq = []\n",
    "    for j in range(len(pos)):\n",
    "        seq.append([-100000, 100000])\n",
    "    bound.append(seq)\n",
    "\n",
    "#bound = Bounds(np.NINF, np.NINF)\n",
    "\n",
    "#print(len(popl), len(bound))\n",
    "#print(popl)\n",
    "#print(bound)\n",
    "res = differential_evolution(totalenergy, bounds=bound, maxiter=50, disp=True, x0=popl)"
   ]
  },
  {
   "cell_type": "code",
   "execution_count": 122,
   "id": "a5f954fc",
   "metadata": {},
   "outputs": [
    {
     "name": "stdout",
     "output_type": "stream",
     "text": [
      "(10, 36)\n",
      "(10, 36, 2)\n"
     ]
    }
   ],
   "source": [
    "print(np.shape(popl))\n",
    "print(np.shape(bound))\n",
    "\n",
    "#print(popl)"
   ]
  },
  {
   "cell_type": "markdown",
   "id": "97860020",
   "metadata": {},
   "source": [
    "11/22/21\n",
    "- having difficulties figuring out the bounds"
   ]
  }
 ],
 "metadata": {
  "kernelspec": {
   "display_name": "Python 3",
   "language": "python",
   "name": "python3"
  },
  "language_info": {
   "codemirror_mode": {
    "name": "ipython",
    "version": 3
   },
   "file_extension": ".py",
   "mimetype": "text/x-python",
   "name": "python",
   "nbconvert_exporter": "python",
   "pygments_lexer": "ipython3",
   "version": "3.9.5"
  }
 },
 "nbformat": 4,
 "nbformat_minor": 5
}
