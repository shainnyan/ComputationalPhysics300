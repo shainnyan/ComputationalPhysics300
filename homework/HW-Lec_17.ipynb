{
 "cells": [
  {
   "cell_type": "markdown",
   "id": "e48a3d19",
   "metadata": {
    "id": "e48a3d19"
   },
   "source": [
    "## 17.5 Homework\n",
    "\n",
    "Write a program to find the ground state of LJ potential for N=3 (assuming $\\epsilon$ = $\\sigma$ = 1)\n",
    "\n",
    "$$ V = 4\\epsilon \\big[ \\big(\\frac{\\sigma}{r}\\big)^{12} - \\big(\\frac{\\sigma}{r}\\big)^{6} \\big]$$\n",
    "\n",
    "[Reference](http://doye.chem.ox.ac.uk/jon/structures/LJ/tables.150.html)\n",
    "\n",
    "- each atom has its own x,y,z coordinates\n",
    "- compute total energy\n",
    "- do the mixed strategy code\n",
    "- N = 3 means 3 atom pairs to calculate the potential between and then just adding it all up\n",
    "- we know that N = 3 atoms has shape of triangle and has energy of about -3 eV, but can we computationally get there?\n",
    "- look at lecture 18 if need help"
   ]
  },
  {
   "cell_type": "code",
   "execution_count": 6,
   "id": "t5AiNHXSdk5B",
   "metadata": {
    "colab": {
     "base_uri": "https://localhost:8080/"
    },
    "executionInfo": {
     "elapsed": 167,
     "status": "ok",
     "timestamp": 1635991768475,
     "user": {
      "displayName": "Shainna Carilyse Alipon",
      "photoUrl": "https://lh3.googleusercontent.com/a/default-user=s64",
      "userId": "06130967565533656877"
     },
     "user_tz": 420
    },
    "id": "t5AiNHXSdk5B",
    "outputId": "e73d1925-dbb2-4bdf-a668-4ec49564e483"
   },
   "outputs": [
    {
     "data": {
      "text/plain": [
       "-2.9999999999980176"
      ]
     },
     "execution_count": 6,
     "metadata": {},
     "output_type": "execute_result"
    }
   ],
   "source": [
    "import numpy as np\n",
    "\n",
    "#leonard james potential\n",
    "def LJ(r):\n",
    "    r6 = r**6\n",
    "    r12 = r6*r6\n",
    "    return 4*(1/r12 - 1/r6)\n",
    "\n",
    "#calculate total energy\n",
    "def totalenergy(pos):\n",
    "    '''\n",
    "    pos: an 1D array (3*N) representing positions of the atoms\n",
    "    example array with 3 atoms:\n",
    "    [x1, y1, z1\n",
    "    x2, y2, z2\n",
    "    x3, y3, z3]\n",
    "    '''\n",
    "    E = 0\n",
    "    atom_amt = int(len(pos)/3)  #number of atoms\n",
    "\n",
    "    for i in range(atom_amt-1):\n",
    "        for j in range(i+1, atom_amt):\n",
    "            atom1 = pos[i*3:(i+1)*3]\n",
    "            atom2 = pos[j*3:(j+1)*3]\n",
    "            dist = np.linalg.norm(atom1-atom2)\n",
    "            E += LJ(dist)\n",
    "    return E      \n",
    "\n",
    "#copied from reference table to check energy\n",
    "pos = np.array([0.4391356726,        0.1106588251,       -0.4635601962,\n",
    "         -0.5185079933,        0.3850176090,        0.0537084789,\n",
    "          0.0793723207,       -0.4956764341,        0.4098517173])\n",
    "\n",
    "totalenergy(pos)"
   ]
  },
  {
   "cell_type": "code",
   "execution_count": 7,
   "id": "df0a1207",
   "metadata": {},
   "outputs": [
    {
     "data": {
      "text/plain": [
       "array([0.46877075, 2.39835897, 2.0424386 , 0.63971853, 0.11561005,\n",
       "       1.03262297, 2.58029761, 2.82213443, 3.90512016])"
      ]
     },
     "execution_count": 7,
     "metadata": {},
     "output_type": "execute_result"
    }
   ],
   "source": [
    "from scipy.optimize import minimize\n",
    "\n",
    "#initial positions of atoms\n",
    "def init_pos(N, L=5):\n",
    "    '''\n",
    "    N = # of atoms\n",
    "    L = a sort of scaling factor for atoms to generate in a bigger area'''\n",
    "    return L*np.random.random_sample((N*3,)) \n",
    "\n",
    "init_pos(3)"
   ]
  },
  {
   "cell_type": "code",
   "execution_count": null,
   "id": "84e400d1",
   "metadata": {},
   "outputs": [],
   "source": [
    "#optimization of positions of atoms to get this energy\n",
    "def mixed_random_search(N):\n",
    "    '''\n",
    "    N = # of attempts\n",
    "    '''\n",
    "    \n",
    "\n",
    "def mixed_random_search(N):\n",
    "    x_min, x_max = -4, 4\n",
    "    y_min, y_max = -4, 4                   \n",
    "    minf = f2([x_min,y_min])\n",
    "\n",
    "    #---to complete-----#\n",
    "    for i in range(N):\n",
    "        nx = x_min + np.random.random()*(x_max - x_min)\n",
    "        ny = y_min + np.random.random()*(y_max - y_min)\n",
    "        res = minimize(f2, [nx,ny], method='nelder-mead')\n",
    "        eval_f = res.fun   #this prints out the minimum obtained from the local optimization above\n",
    "        if res.fun < minf:\n",
    "            minf = eval_f\n",
    "    #---to complete-----#  \n",
    "              \n",
    "    return minf"
   ]
  },
  {
   "cell_type": "markdown",
   "id": "97f39fba",
   "metadata": {
    "colab": {
     "base_uri": "https://localhost:8080/"
    },
    "executionInfo": {
     "elapsed": 202,
     "status": "ok",
     "timestamp": 1635992814411,
     "user": {
      "displayName": "Shainna Carilyse Alipon",
      "photoUrl": "https://lh3.googleusercontent.com/a/default-user=s64",
      "userId": "06130967565533656877"
     },
     "user_tz": 420
    },
    "id": "DUpR3Vtnidkv",
    "outputId": "171d1c3a-4a0a-4ff9-e462-02bfaef7a1cc"
   },
   "source": [
    "11/5/21\n",
    "- turned in homework late. currently attempting to figure out how to change the mixed random search optimization function into a form that fits with this problem"
   ]
  }
 ],
 "metadata": {
  "colab": {
   "name": "HW-Lec_17.ipynb",
   "provenance": []
  },
  "kernelspec": {
   "display_name": "Python 3",
   "language": "python",
   "name": "python3"
  },
  "language_info": {
   "codemirror_mode": {
    "name": "ipython",
    "version": 3
   },
   "file_extension": ".py",
   "mimetype": "text/x-python",
   "name": "python",
   "nbconvert_exporter": "python",
   "pygments_lexer": "ipython3",
   "version": "3.9.5"
  }
 },
 "nbformat": 4,
 "nbformat_minor": 5
}
