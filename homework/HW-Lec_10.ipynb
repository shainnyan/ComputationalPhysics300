{
 "cells": [
  {
   "cell_type": "markdown",
   "id": "b73c0d93",
   "metadata": {},
   "source": [
    "## 10.4 Homework\n",
    "Choose a particular application and perform fft analysis, and illustrate how fft helps.\n",
    "- I don't have any data with me available, but an application for the Fourier transform is in optics. The intensity of light is proportional to the square of the oscillating electric field which exists at any point in space. The Fourier transform is the equivalent of breaking the light into its parts of the spectrum--like a mathematical spectrometer.\n",
    "\n",
    "(source used: https://w.astro.berkeley.edu/~jrg/ngst/fft/optics.html)"
   ]
  }
 ],
 "metadata": {
  "kernelspec": {
   "display_name": "Python 3",
   "language": "python",
   "name": "python3"
  },
  "language_info": {
   "codemirror_mode": {
    "name": "ipython",
    "version": 3
   },
   "file_extension": ".py",
   "mimetype": "text/x-python",
   "name": "python",
   "nbconvert_exporter": "python",
   "pygments_lexer": "ipython3",
   "version": "3.9.5"
  }
 },
 "nbformat": 4,
 "nbformat_minor": 5
}
