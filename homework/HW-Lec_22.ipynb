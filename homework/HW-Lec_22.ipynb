{
 "cells": [
  {
   "cell_type": "markdown",
   "id": "94af1d08",
   "metadata": {},
   "source": [
    "## 22.5 Homework\n",
    "\n",
    "Choose a dataset from [UC Irvine Machine Learning Repository!](http://archive.ics.uci.edu/ml/index.php) and apply the Kneighbour algorithm to do classification.\n",
    "\n",
    "selection: http://archive.ics.uci.edu/ml/datasets/Caesarian+Section+Classification+Dataset\n",
    "\n",
    "goal: predict whether a baby will be born via caesarian section"
   ]
  },
  {
   "cell_type": "code",
   "execution_count": 1,
   "id": "0d51c92d",
   "metadata": {},
   "outputs": [
    {
     "name": "stdout",
     "output_type": "stream",
     "text": [
      "[0. 1. 1. 1. 0. 1. 0. 0. 1. 1. 0. 0. 1. 1. 1. 1. 1. 1. 1. 0. 0. 1. 1. 1.\n",
      " 0. 1. 1. 0. 1. 0. 0. 0.]\n",
      "The accuracy is 62.5%\n"
     ]
    }
   ],
   "source": [
    "import numpy as np\n",
    "from sklearn.model_selection import train_test_split\n",
    "from sklearn.neighbors import KNeighborsClassifier\n",
    "\n",
    "#downloading data\n",
    "x_col = (0,1,2,3,4)\n",
    "y_col = (5)\n",
    "\n",
    "x = np.loadtxt(\"C:/Users/Shainna/Desktop/School/ComputationalPhysics300-master/homework/caesarian data.txt\", delimiter=',', skiprows=16, usecols=x_col)\n",
    "y = np.loadtxt(\"C:/Users/Shainna/Desktop/School/ComputationalPhysics300-master/homework/caesarian data.txt\", delimiter=',', skiprows=16, usecols=y_col)\n",
    "\n",
    "#splitting + assigning data to train or for test\n",
    "x_train1, x_train2, x_train3, x_test1, x_test2 = np.split(x, 5)\n",
    "x_train = np.concatenate((x_train1, x_train2, x_train3))\n",
    "x_test = np.concatenate((x_test1, x_test2))\n",
    "\n",
    "y_train1, y_train2, y_train3, y_test1, y_test2 = np.split(y, 5)\n",
    "y_train = np.concatenate((y_train1, y_train2, y_train3))\n",
    "y_test = np.concatenate((y_test1, y_test2))\n",
    "\n",
    "#setting up machine learning algorithm\n",
    "estimator = KNeighborsClassifier()\n",
    "estimator.fit(x_train, y_train)\n",
    "\n",
    "#this is the actual algorithm for testing to see if the machine learning algorithm works\n",
    "y_predicted = estimator.predict(x_test)  \n",
    "print(y_predicted)\n",
    "\n",
    "#test the accuracy\n",
    "accuracy = np.mean(y_test == y_predicted) *100\n",
    "print(\"The accuracy is {0:.1f}%\".format(accuracy))"
   ]
  }
 ],
 "metadata": {
  "kernelspec": {
   "display_name": "Python 3",
   "language": "python",
   "name": "python3"
  },
  "language_info": {
   "codemirror_mode": {
    "name": "ipython",
    "version": 3
   },
   "file_extension": ".py",
   "mimetype": "text/x-python",
   "name": "python",
   "nbconvert_exporter": "python",
   "pygments_lexer": "ipython3",
   "version": "3.9.5"
  }
 },
 "nbformat": 4,
 "nbformat_minor": 5
}
