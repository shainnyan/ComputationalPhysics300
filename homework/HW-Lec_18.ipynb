{
 "cells": [
  {
   "cell_type": "markdown",
   "id": "5dee3544",
   "metadata": {
    "id": "5dee3544"
   },
   "source": [
    "## 18.3 Homework\n",
    "\n",
    "Try different minimization methods in scipy on larger systems ($N$ = 8, 10, 13), and show \n",
    "- 1 the average number of attempts to find the ground state (probability plot from above)\n",
    "- 2 the time costs\n",
    "\n",
    "N = 13 will take quite some time and that is to be expected\n",
    "\n",
    "### Optional\n",
    "try to improve the code to make it run faster, analyze the most time consuming part and give your solution"
   ]
  },
  {
   "cell_type": "code",
   "execution_count": 1,
   "id": "adsb5JDoK-rw",
   "metadata": {
    "executionInfo": {
     "elapsed": 155,
     "status": "ok",
     "timestamp": 1636425422252,
     "user": {
      "displayName": "Shainna Carilyse Alipon",
      "photoUrl": "https://lh3.googleusercontent.com/a/default-user=s64",
      "userId": "06130967565533656877"
     },
     "user_tz": 480
    },
    "id": "adsb5JDoK-rw"
   },
   "outputs": [],
   "source": [
    "'''all of the necessary functions are defined below'''\n",
    "\n",
    "import numpy as np\n",
    "from scipy.optimize import minimize\n",
    "import matplotlib.pyplot as plt\n",
    "\n",
    "#leonard james potential\n",
    "def LJ(r):\n",
    "    r6 = r**6\n",
    "    r12 = r6*r6\n",
    "    return 4*(1/r12 - 1/r6)\n",
    "\n",
    "#calculate total energy\n",
    "def totalenergy(pos):\n",
    "    '''\n",
    "    pos: a 1D array (3*N) representing positions of the atoms\n",
    "    example array with 3 atoms:\n",
    "    [x1, y1, z1\n",
    "    x2, y2, z2\n",
    "    x3, y3, z3]\n",
    "    '''\n",
    "    E = 0\n",
    "    atom_amt = int(len(pos)/3)  #number of atoms\n",
    "\n",
    "    for i in range(atom_amt-1):\n",
    "        for j in range(i+1, atom_amt):\n",
    "            atom1 = pos[i*3:(i+1)*3]\n",
    "            atom2 = pos[j*3:(j+1)*3]\n",
    "            dist = np.linalg.norm(atom1-atom2)\n",
    "            E += LJ(dist)\n",
    "    return E \n",
    "\n",
    "#initial positions of atoms\n",
    "def init_pos(N, L=5):\n",
    "    '''\n",
    "    N = # of atoms\n",
    "    L = a sort of scaling factor for atoms to generate in a bigger area'''\n",
    "    return L*np.random.random_sample((N*3,)) \n",
    "\n",
    "#finding the energy w/ optimization\n",
    "def optim_energy(N, pos, resmethod, N_attempts=300):\n",
    "    energy_val = []\n",
    "    pos_val = []\n",
    "\n",
    "    for i in range(N_attempts):\n",
    "        res = minimize(totalenergy, pos, method=resmethod, tol=1e-4)\n",
    "        energy_val.append(res.fun)\n",
    "        pos_val.append(res.x)\n",
    "        print('\\r Step: {:d} out of {:d}; values: {:.4f}'.format(i, N_attempts, res.fun), flush=True, end='')\n",
    "    return energy_val, pos_val"
   ]
  },
  {
   "cell_type": "code",
   "execution_count": 2,
   "id": "foKg3qHVYQsm",
   "metadata": {
    "executionInfo": {
     "elapsed": 162,
     "status": "ok",
     "timestamp": 1636425480396,
     "user": {
      "displayName": "Shainna Carilyse Alipon",
      "photoUrl": "https://lh3.googleusercontent.com/a/default-user=s64",
      "userId": "06130967565533656877"
     },
     "user_tz": 480
    },
    "id": "foKg3qHVYQsm"
   },
   "outputs": [],
   "source": [
    "'''getting the initial positions for N = 8, 10, 13'''\n",
    "\n",
    "import requests\n",
    "\n",
    "def get_pos_from_url(address='http://doye.chem.ox.ac.uk/jon/structures/LJ/points/', N=7):\n",
    "    url_address = address + str(N)\n",
    "    data_str = requests.get(url_address).text\n",
    "    return parse_url_text(data_str)\n",
    "\n",
    "def parse_url_text(data_str):\n",
    "    x_array = []\n",
    "    text = data_str.split('\\n')\n",
    "    for line in text:\n",
    "        [x_array.append(float(i)) for i in line.split()]\n",
    "    return np.array(x_array)    \n",
    "\n",
    "import time"
   ]
  },
  {
   "cell_type": "code",
   "execution_count": 5,
   "id": "YkvC7T9tSZFL",
   "metadata": {
    "colab": {
     "base_uri": "https://localhost:8080/",
     "height": 315
    },
    "executionInfo": {
     "elapsed": 52473,
     "status": "ok",
     "timestamp": 1636425369152,
     "user": {
      "displayName": "Shainna Carilyse Alipon",
      "photoUrl": "https://lh3.googleusercontent.com/a/default-user=s64",
      "userId": "06130967565533656877"
     },
     "user_tz": 480
    },
    "id": "YkvC7T9tSZFL",
    "outputId": "b6658bf8-a405-425a-9cb4-f6205ef8c48d"
   },
   "outputs": [
    {
     "name": "stdout",
     "output_type": "stream",
     "text": [
      " Step: 299 out of 300; values: -18.8568"
     ]
    },
    {
     "data": {
      "image/png": "[encoded data removed]",
      "text/plain": [
       "<Figure size 640x480 with 1 Axes>"
      ]
     },
     "metadata": {},
     "output_type": "display_data"
    },
    {
     "name": "stdout",
     "output_type": "stream",
     "text": [
      "global minimum energy: -18.856826167718584   time: 290.1040024757385 sec\n"
     ]
    }
   ],
   "source": [
    "#N=8; ground state energy = -19.821489 eV\n",
    "\n",
    "#pos_check = get_pos_from_url(N=8)\n",
    "pos = init_pos(8)\n",
    "N = 8\n",
    "N_attempts = 300\n",
    "time1 = time.time()\n",
    "energy_val, pos_val = optim_energy(N, pos, resmethod='BFGS')\n",
    "time2 = time.time()\n",
    "dTime = time2 - time1\n",
    "\n",
    "plt.title('LJ cluster: ' + str(N_attempts) + ' runs for N = ' + str(N) +' atoms')\n",
    "plt.hist(energy_val)\n",
    "plt.show()\n",
    "print('global minimum energy:', min(energy_val), '  time:', dTime, 'sec')"
   ]
  },
  {
   "cell_type": "markdown",
   "id": "b08d96a6",
   "metadata": {},
   "source": [
    "data below is for N = 8 atoms\n",
    "\n",
    "---timed trials using given ground state positions from the link---\n",
    "- trial 1: google colab says this took 13 min with CG method, -19.8215 eV\n",
    "- trial 2: L-BFGS-B method, -19.8215 eV, 11.99 sec\n",
    "- trial 3: powell method, -19.8215 eV, 42.81 sec\n",
    "- trial 4: BFGS method, -19.8215 eV, 51.88 sec\n",
    "\n",
    "---timed trials using random positions (11/9 correction)---\n",
    "- trial 1: CG method, -19.7653 eV, 1499.57 sec [about 25 minutes]\n",
    "- trial 2: L-BFGS-B method, -17.7875 eV, 706.60 sec [about 12 minutes]\n",
    "- trial 3: powell method, -18.7769 eV, 751.12 sec [about 12.5 minutes]\n",
    "- trial 4: BFGS method, -19.8215 eV, 294.37 sec [about 5 minutes]\n",
    "- trial 5: nelder-mead method, -9.8773 eV, 353.26 sec [about 6 minutes]"
   ]
  },
  {
   "cell_type": "code",
   "execution_count": 6,
   "id": "Rd8d_TXQbdPo",
   "metadata": {
    "colab": {
     "base_uri": "https://localhost:8080/",
     "height": 315
    },
    "executionInfo": {
     "elapsed": 9416,
     "status": "ok",
     "timestamp": 1636425441925,
     "user": {
      "displayName": "Shainna Carilyse Alipon",
      "photoUrl": "https://lh3.googleusercontent.com/a/default-user=s64",
      "userId": "06130967565533656877"
     },
     "user_tz": 480
    },
    "id": "Rd8d_TXQbdPo",
    "outputId": "d05c43a1-4405-4845-f7a8-a0ea922b1ed9"
   },
   "outputs": [
    {
     "name": "stdout",
     "output_type": "stream",
     "text": [
      " Step: 299 out of 300; values: -27.5452"
     ]
    },
    {
     "data": {
      "image/png": "[encoded data removed]",
      "text/plain": [
       "<Figure size 640x480 with 1 Axes>"
      ]
     },
     "metadata": {},
     "output_type": "display_data"
    },
    {
     "name": "stdout",
     "output_type": "stream",
     "text": [
      "global minimum energy: -27.54520685229971   time: 439.2912337779999 sec\n"
     ]
    }
   ],
   "source": [
    "#N=10; ground state energy = -28.422532 eV\n",
    "\n",
    "#pos_check = get_pos_from_url(N=10)\n",
    "pos = init_pos(10)\n",
    "N = 8\n",
    "N_attempts = 300\n",
    "time1 = time.time()\n",
    "energy_val, pos_val = optim_energy(N, pos, resmethod='BFGS')\n",
    "time2 = time.time()\n",
    "dTime = time2 - time1\n",
    "\n",
    "plt.title('LJ cluster: ' + str(N_attempts) + ' runs for N = ' + str(N) +' atoms')\n",
    "plt.hist(energy_val)\n",
    "plt.show()\n",
    "print('global minimum energy:', min(energy_val), '  time:', dTime, 'sec')\n",
    "\n",
    "#pos_check gives us -28.4225 eV @ 8.82 sec"
   ]
  },
  {
   "cell_type": "code",
   "execution_count": 7,
   "id": "3RHcQhWbS0bi",
   "metadata": {
    "colab": {
     "base_uri": "https://localhost:8080/",
     "height": 315
    },
    "executionInfo": {
     "elapsed": 57535,
     "status": "ok",
     "timestamp": 1636425557569,
     "user": {
      "displayName": "Shainna Carilyse Alipon",
      "photoUrl": "https://lh3.googleusercontent.com/a/default-user=s64",
      "userId": "06130967565533656877"
     },
     "user_tz": 480
    },
    "id": "3RHcQhWbS0bi",
    "outputId": "3aadb467-f1d5-4c4c-d61f-9019a1f06215"
   },
   "outputs": [
    {
     "name": "stdout",
     "output_type": "stream",
     "text": [
      " Step: 299 out of 300; values: -39.4689"
     ]
    },
    {
     "data": {
      "image/png": "[encoded data removed]",
      "text/plain": [
       "<Figure size 640x480 with 1 Axes>"
      ]
     },
     "metadata": {},
     "output_type": "display_data"
    },
    {
     "name": "stdout",
     "output_type": "stream",
     "text": [
      "global minimum energy: -39.46888241526159   time: 2963.040876150131 sec\n"
     ]
    }
   ],
   "source": [
    "#N=13; ground state energy = -44.326801 eV\n",
    "\n",
    "#pos_check = get_pos_from_url(N=13)\n",
    "pos = init_pos(13)\n",
    "N = 13\n",
    "N_attempts = 300\n",
    "time1 = time.time()\n",
    "energy_val, pos_val = optim_energy(N, pos, resmethod='BFGS')\n",
    "time2 = time.time()\n",
    "dTime = time2 - time1\n",
    "\n",
    "plt.title('LJ cluster: ' + str(N_attempts) + ' runs for N = ' + str(N) +' atoms')\n",
    "plt.hist(energy_val)\n",
    "plt.show()\n",
    "print('global minimum energy:', min(energy_val), '  time:', dTime, 'sec')\n",
    "\n",
    "#pos_check gives us -44.3268 eV @ 57.01 sec"
   ]
  },
  {
   "cell_type": "markdown",
   "id": "d464ffe8",
   "metadata": {},
   "source": [
    "11/9 homework corrections:\n",
    "- change pos back to random and not the actual positions from the link\n",
    "- in optim_energy func, define pos and method in the initial func line when defining variables"
   ]
  }
 ],
 "metadata": {
  "colab": {
   "name": "HW-Lec_18.ipynb",
   "provenance": []
  },
  "kernelspec": {
   "display_name": "Python 3",
   "language": "python",
   "name": "python3"
  },
  "language_info": {
   "codemirror_mode": {
    "name": "ipython",
    "version": 3
   },
   "file_extension": ".py",
   "mimetype": "text/x-python",
   "name": "python",
   "nbconvert_exporter": "python",
   "pygments_lexer": "ipython3",
   "version": "3.9.5"
  }
 },
 "nbformat": 4,
 "nbformat_minor": 5
}
