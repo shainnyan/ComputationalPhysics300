{
 "cells": [
  {
   "cell_type": "markdown",
   "id": "e17f527f",
   "metadata": {},
   "source": [
    "### Fibonacci number\n",
    "In mathematics, the Fibonacci numbers are the numbers in the following integer sequence, called the Fibonacci sequence, and characterized by the fact that every number after the first two is the sum of the two preceding ones:\n",
    "\n",
    "1, 1, 2, 3, 5, 8, 13, 21, 34, 55, 89, 144"
   ]
  },
  {
   "cell_type": "code",
   "execution_count": 18,
   "id": "8e960deb",
   "metadata": {},
   "outputs": [
    {
     "name": "stdout",
     "output_type": "stream",
     "text": [
      "[]\n",
      "[1]\n",
      "[1, 1]\n",
      "[1, 1, 2]\n",
      "[1, 1, 2, 3]\n",
      "[1, 1, 2, 3, 5, 8, 13, 21, 34, 55, 89, 144, 233, 377, 610, 987, 1597, 2584, 4181, 6765]\n"
     ]
    }
   ],
   "source": [
    "def fibonacci(n):  # n = how many numbers in the sequence\n",
    "    '''formula to calculate Fibonacci sequence'''\n",
    "    fib_series = []\n",
    "    counter = 2\n",
    "    \n",
    "    if n <= 0:\n",
    "        fib_series = []\n",
    "    elif n == 1:\n",
    "        fib_series.append(1)\n",
    "    else:\n",
    "        fib_series = [1, 1]\n",
    "        while counter < n:\n",
    "            fib_series.append(fib_series[-1] + fib_series[-2])\n",
    "            counter = counter + 1\n",
    "            if counter == n:\n",
    "                break\n",
    "    return fib_series\n",
    "\n",
    "print(fibonacci(-1))\n",
    "print(fibonacci(1))\n",
    "print(fibonacci(2))\n",
    "print(fibonacci(3))\n",
    "print(fibonacci(4))\n",
    "print(fibonacci(20))"
   ]
  }
 ],
 "metadata": {
  "kernelspec": {
   "display_name": "Python 3",
   "language": "python",
   "name": "python3"
  },
  "language_info": {
   "codemirror_mode": {
    "name": "ipython",
    "version": 3
   },
   "file_extension": ".py",
   "mimetype": "text/x-python",
   "name": "python",
   "nbconvert_exporter": "python",
   "pygments_lexer": "ipython3",
   "version": "3.9.5"
  }
 },
 "nbformat": 4,
 "nbformat_minor": 5
}
