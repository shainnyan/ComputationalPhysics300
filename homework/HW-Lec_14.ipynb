{
 "cells": [
  {
   "cell_type": "markdown",
   "id": "74f0baf3",
   "metadata": {},
   "source": [
    "## 14.4 Homework\n",
    "- 1, Import the visual package in python to make an animation on the screen of the position of the particle in Brownian motion.\n",
    "- 2, rewrite the radioactive decay, to generate 1000 random numbers following the non-uniformed distribution."
   ]
  },
  {
   "cell_type": "markdown",
   "id": "15f7128d",
   "metadata": {},
   "source": [
    "### Part 1"
   ]
  },
  {
   "cell_type": "code",
   "execution_count": 1,
   "id": "a1684b04",
   "metadata": {},
   "outputs": [
    {
     "data": {
      "text/html": [
       "<div id=\"glowscript\" class=\"glowscript\"></div>"
      ],
      "text/plain": [
       "<IPython.core.display.HTML object>"
      ]
     },
     "metadata": {},
     "output_type": "display_data"
    },
    {
     "data": {
      "application/javascript": [
       "if (typeof Jupyter !== \"undefined\") { window.__context = { glowscript_container: $(\"#glowscript\").removeAttr(\"id\")};}else{ element.textContent = ' ';}"
      ],
      "text/plain": [
       "<IPython.core.display.Javascript object>"
      ]
     },
     "metadata": {},
     "output_type": "display_data"
    },
    {
     "data": {
      "text/html": [
       "<div id=\"glowscript\" class=\"glowscript\"></div>"
      ],
      "text/plain": [
       "<IPython.core.display.HTML object>"
      ]
     },
     "metadata": {},
     "output_type": "display_data"
    },
    {
     "data": {
      "application/javascript": [
       "if (typeof Jupyter !== \"undefined\") { window.__context = { glowscript_container: $(\"#glowscript\").removeAttr(\"id\")};}else{ element.textContent = ' ';}"
      ],
      "text/plain": [
       "<IPython.core.display.Javascript object>"
      ]
     },
     "metadata": {},
     "output_type": "display_data"
    },
    {
     "data": {
      "application/javascript": [
       "if (typeof Jupyter !== \"undefined\") {require.undef(\"nbextensions/vpython_libraries/glow.min\");}else{element.textContent = ' ';}"
      ],
      "text/plain": [
       "<IPython.core.display.Javascript object>"
      ]
     },
     "metadata": {},
     "output_type": "display_data"
    },
    {
     "data": {
      "application/javascript": [
       "if (typeof Jupyter !== \"undefined\") {require.undef(\"nbextensions/vpython_libraries/glowcomm\");}else{element.textContent = ' ';}"
      ],
      "text/plain": [
       "<IPython.core.display.Javascript object>"
      ]
     },
     "metadata": {},
     "output_type": "display_data"
    },
    {
     "data": {
      "application/javascript": [
       "if (typeof Jupyter !== \"undefined\") {require.undef(\"nbextensions/vpython_libraries/jquery-ui.custom.min\");}else{element.textContent = ' ';}"
      ],
      "text/plain": [
       "<IPython.core.display.Javascript object>"
      ]
     },
     "metadata": {},
     "output_type": "display_data"
    },
    {
     "data": {
      "application/javascript": [
       "if (typeof Jupyter !== \"undefined\") {require([\"nbextensions/vpython_libraries/glow.min\"], function(){console.log(\"GLOW LOADED\");});}else{element.textContent = ' ';}"
      ],
      "text/plain": [
       "<IPython.core.display.Javascript object>"
      ]
     },
     "metadata": {},
     "output_type": "display_data"
    },
    {
     "data": {
      "application/javascript": [
       "if (typeof Jupyter !== \"undefined\") {require([\"nbextensions/vpython_libraries/glowcomm\"], function(){console.log(\"GLOWCOMM LOADED\");});}else{element.textContent = ' ';}"
      ],
      "text/plain": [
       "<IPython.core.display.Javascript object>"
      ]
     },
     "metadata": {},
     "output_type": "display_data"
    },
    {
     "data": {
      "application/javascript": [
       "if (typeof Jupyter !== \"undefined\") {require([\"nbextensions/vpython_libraries/jquery-ui.custom.min\"], function(){console.log(\"JQUERY LOADED\");});}else{element.textContent = ' ';}"
      ],
      "text/plain": [
       "<IPython.core.display.Javascript object>"
      ]
     },
     "metadata": {},
     "output_type": "display_data"
    }
   ],
   "source": [
    "import numpy as np\n",
    "import matplotlib.pyplot as plt\n",
    "from vpython import *\n",
    "scene = canvas()\n",
    "\n",
    "#initialization\n",
    "L1 = 101\n",
    "L2 = 101\n",
    "N = 1000\n",
    "\n",
    "#plot the trajectory - starting position    \n",
    "particle = sphere(pos=vector(0,0,0), radius=2, color=color.green)\n",
    "wallR = box(pos=vector(L1,0,0), size=vector(0.2,L1*2,L1*2))\n",
    "wallL = box(pos=vector(-L1,0,0), size=vector(0.2,L1*2,L1*2))\n",
    "wallBack = box(pos=vector(0,0,-L1), size=vector(L1*2,L1*2,-0.2))\n",
    "wallUp = box(pos=vector(0,L1,0), size=vector(L1*2,0.2,L1*2))\n",
    "wallGround = box(pos=vector(0,-L1,0), size=vector(L1*2,-0.2,L1*2))\n",
    "#wallF = box(pos=vector(0,0,L1), size=vector(L1*2,L1*2,0.2))  <--invisible front wall\n",
    "\n",
    "for i in range(1,N):\n",
    "    #direction vectors\n",
    "    right = vector(1,0,0)\n",
    "    left = vector(-1,0,0)\n",
    "    up = vector(0,1,0)\n",
    "    down = vector(0,-1,0)\n",
    "    \n",
    "    #creating movement\n",
    "    move = np.random.randint(4)\n",
    "    if move == 1:\n",
    "        particle.velocity = right\n",
    "        particle.pos += particle.velocity\n",
    "        rate(100)\n",
    "        if particle.pos.x > wallR.pos.x:\n",
    "            particle.velocity = -right\n",
    "            particle.pos += particle.velocity\n",
    "            rate(100)\n",
    "    elif move == 2:\n",
    "        particle.velocity = left\n",
    "        particle.pos += particle.velocity\n",
    "        rate(100)\n",
    "        if particle.pos.x > wallL.pos.x:\n",
    "            particle.velocity = -left\n",
    "            particle.pos += particle.velocity\n",
    "            rate(100)\n",
    "    elif move == 3:\n",
    "        particle.velocity = up\n",
    "        particle.pos += particle.velocity\n",
    "        rate(100)\n",
    "        if particle.pos.y > wallUp.pos.y:\n",
    "            particle.velocity = -up\n",
    "            particle.pos += particle.velocity\n",
    "            rate(100)\n",
    "    elif move == 4:\n",
    "        particle.velocity = down\n",
    "        particle.pos += particle.velocity\n",
    "        rate(100)\n",
    "        if particle.pos.y > wallGround.pos.y:\n",
    "            particle.velocity = -down\n",
    "            particle.pos += particle.velocity\n",
    "            rate(100)"
   ]
  },
  {
   "cell_type": "markdown",
   "id": "d10658e1",
   "metadata": {},
   "source": [
    "- I am stuck right now because the ball keeps getting stuck in a corner instead of bouncing off the walls\n",
    "- additionally, the movement is not that random because it seems to always go in a northeast movement"
   ]
  },
  {
   "cell_type": "markdown",
   "id": "42250756",
   "metadata": {},
   "source": [
    "### Part 2"
   ]
  },
  {
   "cell_type": "code",
   "execution_count": 5,
   "id": "4ac73fb5",
   "metadata": {},
   "outputs": [
    {
     "data": {
      "image/png": "[encoded data removed]",
      "text/plain": [
       "<Figure size 640x480 with 1 Axes>"
      ]
     },
     "metadata": {},
     "output_type": "display_data"
    }
   ],
   "source": [
    "import numpy as np\n",
    "import matplotlib.pyplot as plt\n",
    "\n",
    "tau = 3.053*60\n",
    "\n",
    "N_atom = 1000   #1000 Tl atoms\n",
    "N_time = 1000   #1000 seconds\n",
    "mu = np.log(2)/tau\n",
    "N_Pb = np.zeros([N_time-1])  #the array to store the number of newly created atoms in each time step \n",
    "N_Tl = N_atom * np.ones([N_time-1])  #the array to store the number of decayed atoms in each time step \n",
    "\n",
    "for i in range(N_atom):    \n",
    "    z0 = np.random.random()\n",
    "    x0 = int(-np.log(1-z0)/mu) #the time to decay from random number\n",
    "    if x0<N_time:     \n",
    "        N_Pb[x0:] += 1  #after decay, we need to count 1 from now on\n",
    "        N_Tl[x0:] -= 1  #after decay, we need to count 1 from now on\n",
    "        \n",
    "plt.plot(N_Tl, label='Tl')\n",
    "plt.plot(N_Pb, label='Pb')\n",
    "plt.xlabel(\"Time (s)\")\n",
    "plt.ylabel(\"Number of atoms\")\n",
    "\n",
    "plt.legend()\n",
    "plt.show()"
   ]
  }
 ],
 "metadata": {
  "kernelspec": {
   "display_name": "Python 3",
   "language": "python",
   "name": "python3"
  },
  "language_info": {
   "codemirror_mode": {
    "name": "ipython",
    "version": 3
   },
   "file_extension": ".py",
   "mimetype": "text/x-python",
   "name": "python",
   "nbconvert_exporter": "python",
   "pygments_lexer": "ipython3",
   "version": "3.9.5"
  }
 },
 "nbformat": 4,
 "nbformat_minor": 5
}
